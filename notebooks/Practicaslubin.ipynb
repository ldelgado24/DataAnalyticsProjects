{
 "cells": [
  {
   "cell_type": "code",
   "execution_count": 9,
   "id": "b58996e7-bb16-4e69-9479-bf26e8707e0d",
   "metadata": {},
   "outputs": [
    {
     "name": "stdout",
     "output_type": "stream",
     "text": [
      "Hola Mundo\n"
     ]
    }
   ],
   "source": [
    "print (\"Hola Mundo\")"
   ]
  },
  {
   "cell_type": "code",
   "execution_count": 21,
   "id": "6a207836-ef9f-47f2-b2c0-0cb926d2f058",
   "metadata": {},
   "outputs": [
    {
     "name": "stdout",
     "output_type": "stream",
     "text": [
      "3\n"
     ]
    }
   ],
   "source": [
    "print (1+2)"
   ]
  },
  {
   "cell_type": "code",
   "execution_count": 19,
   "id": "b57535f7-da14-4619-87b4-e36447d4e37d",
   "metadata": {},
   "outputs": [
    {
     "data": {
      "text/plain": [
       "2"
      ]
     },
     "execution_count": 19,
     "metadata": {},
     "output_type": "execute_result"
    }
   ],
   "source": [
    "1+1"
   ]
  },
  {
   "cell_type": "code",
   "execution_count": 23,
   "id": "28fc1779-f028-4a36-84ac-2e18d22b1a19",
   "metadata": {},
   "outputs": [
    {
     "name": "stdout",
     "output_type": "stream",
     "text": [
      "Bienvenido al curso de python\n"
     ]
    }
   ],
   "source": [
    "print('Bienvenido al curso de python')"
   ]
  },
  {
   "cell_type": "code",
   "execution_count": 41,
   "id": "dd88808d-e837-4053-b7ab-97a505b73491",
   "metadata": {},
   "outputs": [
    {
     "name": "stdout",
     "output_type": "stream",
     "text": [
      "5\n"
     ]
    }
   ],
   "source": [
    "datos = [2,4,6,8]\n",
    "\n",
    "Promedio = mean(datos)\n",
    "print(Promedio)"
   ]
  },
  {
   "cell_type": "code",
   "execution_count": 45,
   "id": "52e7f579-ae7b-4ea2-918f-5f251e522956",
   "metadata": {},
   "outputs": [
    {
     "name": "stdout",
     "output_type": "stream",
     "text": [
      "2.581988897471611\n"
     ]
    }
   ],
   "source": [
    "from statistics import stdev\n",
    "desviacion_estandar=stdev(datos)\n",
    "print(desviacion_estandar)"
   ]
  },
  {
   "cell_type": "code",
   "execution_count": 107,
   "id": "9dabe1e4-8a34-40b3-a613-a17698f7ef96",
   "metadata": {},
   "outputs": [
    {
     "name": "stdout",
     "output_type": "stream",
     "text": [
      "Promedio precio: 32.45\n",
      "Promedio indice: 1.15\n",
      "Desviación Estandar precio: 2.66\n",
      "Desviación Estandar indice: 0.05\n"
     ]
    }
   ],
   "source": [
    "import numpy as np\n",
    "\n",
    "precios = [35.900, 35.900, 34.990, 36.000, 27.800, 31.000, 33.380, 29.100, 30.810, 29.350, 31.720, 33.200, 32.760]\n",
    "indice = [1.187, 1.157, 1.198, 1.099, 1.133, 1.174, 1.076, 1.121, 1.088, 1.146, 1.195, 1.276]\n",
    "\n",
    "Promedio = np.mean(precios)\n",
    "desviacion_estandar = np.std(precios)\n",
    "Promedio_indice = np.mean(indice)\n",
    "desviacion_estandar_indice = np.std(indice)\n",
    "\n",
    "print(f\"Promedio precio: {Promedio:.2f}\")\n",
    "print(f\"Promedio indice: {Promedio_indice:.2f}\" )\n",
    "print(f\"Desviación Estandar precio: {desviacion_estandar:.2f}\")\n",
    "print(f\"Desviación Estandar indice: {desviacion_estandar_indice:.2f}\")"
   ]
  },
  {
   "cell_type": "code",
   "execution_count": 77,
   "id": "0825fcf9-274c-495d-aa30-dc9da50039b7",
   "metadata": {},
   "outputs": [
    {
     "name": "stdout",
     "output_type": "stream",
     "text": [
      "Promedio: 32.45\n",
      "Desviación estándar: 2.66\n",
      "Mínimo: 27.80\n",
      "Máximo: 36.00\n",
      "Mediana: 32.76\n"
     ]
    }
   ],
   "source": [
    "import numpy as np\n",
    "\n",
    "# Datos\n",
    "precios = [35.900, 35.900, 34.990, 36.000, 27.800, 31.000, 33.380, 29.100, 30.810, 29.350, 31.720, 33.200, 32.760]\n",
    "\n",
    "# Resumen estadístico básico\n",
    "mean = np.mean(precios)  # Promedio\n",
    "std = np.std(precios)    # Desviación estándar\n",
    "min_val = np.min(precios)  # Mínimo\n",
    "max_val = np.max(precios)  # Máximo\n",
    "median = np.median(precios)  # Mediana\n",
    "\n",
    "print(f\"Promedio: {mean:.2f}\")\n",
    "print(f\"Desviación estándar: {std:.2f}\")\n",
    "print(f\"Mínimo: {min_val:.2f}\")\n",
    "print(f\"Máximo: {max_val:.2f}\")\n",
    "print(f\"Mediana: {median:.2f}\")"
   ]
  },
  {
   "cell_type": "code",
   "execution_count": 83,
   "id": "8b330ed6-7688-433c-b4d6-bc1a8e5a660c",
   "metadata": {},
   "outputs": [
    {
     "data": {
      "image/png": "[encoded data removed]",
      "text/plain": [
       "<Figure size 640x480 with 1 Axes>"
      ]
     },
     "metadata": {},
     "output_type": "display_data"
    }
   ],
   "source": [
    "import matplotlib.pyplot as plt\n",
    "\n",
    "# Datos\n",
    "categorias = ['ene', 'febr', 'mar', 'abr', 'may', 'jun', 'jul', 'ago', 'sept', 'oct', 'nov', 'dic']\n",
    "indice = [1187, 1157, 1198, 1099, 1133, 1174, 1076, 1121, 1088, 1146, 1195, 1276]\n",
    "\n",
    "# Crear la gráfica de barras\n",
    "plt.bar(categorias, indice, color='skyblue')\n",
    "\n",
    "# Títulos y etiquetas\n",
    "plt.title('Gráfica de Barras Simple')\n",
    "plt.xlabel('Categorías')\n",
    "plt.ylabel('indice')\n",
    "\n",
    "# Mostrar la gráfica\n",
    "plt.show()"
   ]
  },
  {
   "cell_type": "code",
   "execution_count": 99,
   "id": "fbd85efb-c095-47fa-a4bc-8f41d1ea3d3b",
   "metadata": {},
   "outputs": [
    {
     "name": "stdout",
     "output_type": "stream",
     "text": [
      "Promedio de precios: 32.45\n",
      "Desviación estándar de precios: 2.66\n",
      "Promedio del índice: 1.15\n",
      "Desviación estándar del índice: 0.05\n"
     ]
    }
   ],
   "source": [
    "import numpy as np\n",
    "\n",
    "# Datos\n",
    "precios = [35.900, 35.900, 34.990, 36.000, 27.800, 31.000, 33.380, 29.100, 30.810, 29.350, 31.720, 33.200, 32.760]\n",
    "indice = [1.187, 1.157, 1.198, 1.099, 1.133, 1.174, 1.076, 1.121, 1.088, 1.146, 1.195, 1.276]\n",
    "\n",
    "# Resumen estadístico\n",
    "Promedio = np.mean(precios)  # Promedio de precios\n",
    "desviacion_estandar = np.std(precios)  # Desviación estándar de precios\n",
    "Promedio_indice = np.mean(indice)  # Promedio del índice\n",
    "desviacion_estandar_indice = np.std(indice)  # Desviación estándar del índice\n",
    "\n",
    "print(f\"Promedio de precios: {Promedio:.2f}\")\n",
    "print(f\"Desviación estándar de precios: {desviacion_estandar:.2f}\")\n",
    "print(f\"Promedio del índice: {Promedio_indice:.2f}\")\n",
    "print(f\"Desviación estándar del índice: {desviacion_estandar_indice:.2f}\")"
   ]
  },
  {
   "cell_type": "code",
   "execution_count": 1,
   "id": "22417809-8b49-4646-b1f8-a2dae9dcb0c3",
   "metadata": {},
   "outputs": [
    {
     "name": "stdout",
     "output_type": "stream",
     "text": [
      "La cadena es: Hola Mundo\n"
     ]
    }
   ],
   "source": [
    "cadena1 = \"Hola\"\n",
    "cadena2 = \"Mundo\"\n",
    "concatenacion = cadena1 + \" \" + cadena2\n",
    "\n",
    "print(\"La cadena es:\", concatenacion)"
   ]
  },
  {
   "cell_type": "code",
   "execution_count": 3,
   "id": "f004be9d-f4f8-4f74-b04b-15a1e7b84df0",
   "metadata": {},
   "outputs": [
    {
     "name": "stdout",
     "output_type": "stream",
     "text": [
      "el area es: 28.274333882308138\n"
     ]
    }
   ],
   "source": [
    "import math\n",
    "\n",
    "radio=3\n",
    "area= math.pi*radio**2\n",
    "print(\"el area es:\", area);"
   ]
  },
  {
   "cell_type": "code",
   "execution_count": 5,
   "id": "1a2d4be2-c549-4d49-adb0-29e718dc0e13",
   "metadata": {},
   "outputs": [
    {
     "data": {
      "text/plain": [
       "4"
      ]
     },
     "execution_count": 5,
     "metadata": {},
     "output_type": "execute_result"
    }
   ],
   "source": [
    "2*2"
   ]
  },
  {
   "cell_type": "code",
   "execution_count": 11,
   "id": "d1e18e9d-1922-4ee0-af00-ee9044dbd2f6",
   "metadata": {},
   "outputs": [
    {
     "name": "stdout",
     "output_type": "stream",
     "text": [
      "Resultado: 90\n"
     ]
    }
   ],
   "source": [
    "numero1= 2\n",
    "numero2=45\n",
    "\n",
    "resultado=numero1*numero2\n",
    "\n",
    "print('Resultado:', resultado)"
   ]
  },
  {
   "cell_type": "code",
   "execution_count": 13,
   "id": "21d2ac4b-3d2d-4590-a5d3-c4ae300157a5",
   "metadata": {},
   "outputs": [
    {
     "name": "stdout",
     "output_type": "stream",
     "text": [
      "longitud: 5\n"
     ]
    }
   ],
   "source": [
    "#Cadena de texto\n",
    "\n",
    "cadena= \"Lubin\"\n",
    "longitud= len(cadena)\n",
    "\n",
    "print('longitud:', longitud)"
   ]
  },
  {
   "cell_type": "code",
   "execution_count": 19,
   "id": "05abd1c6-5b04-496c-9e95-4fcbb586ae7a",
   "metadata": {},
   "outputs": [
    {
     "name": "stdout",
     "output_type": "stream",
     "text": [
      "El promedo es: 6.125\n"
     ]
    }
   ],
   "source": [
    "#Promedio de una lista de datos \n",
    "\n",
    "numeros= [2,4,6,8,6,8,9,6]\n",
    "promedio= sum(numeros)/len(numeros)\n",
    "\n",
    "print('El promedo es:', promedio)"
   ]
  },
  {
   "cell_type": "code",
   "execution_count": 21,
   "id": "719e6749-f33c-4079-9a98-4a2afe6927db",
   "metadata": {},
   "outputs": [
    {
     "name": "stdout",
     "output_type": "stream",
     "text": [
      "Resultado: 25\n"
     ]
    }
   ],
   "source": [
    "#potencia de un numero\n",
    "\n",
    "base= 5\n",
    "exponente= 2\n",
    "\n",
    "resultado= base**exponente\n",
    "\n",
    "print('Resultado:', resultado)"
   ]
  },
  {
   "cell_type": "code",
   "execution_count": 25,
   "id": "4bb52439-8ef2-4fa4-b786-9e1d363bcdc0",
   "metadata": {},
   "outputs": [
    {
     "name": "stdin",
     "output_type": "stream",
     "text": [
      "ingresa base 16\n",
      "ingresa altura 6\n"
     ]
    },
    {
     "name": "stdout",
     "output_type": "stream",
     "text": [
      "Area = 96\n"
     ]
    }
   ],
   "source": [
    "# Calcula el area de un rectangulo pide base y altura al usuario.\n",
    "\n",
    "base = int(input('ingresa base'))\n",
    "altura= int(input('ingresa altura'))\n",
    "\n",
    "area= base*altura\n",
    "\n",
    "print('Area =', area)"
   ]
  },
  {
   "cell_type": "code",
   "execution_count": 27,
   "id": "8730cfab-60f3-489f-8882-4de053edd795",
   "metadata": {},
   "outputs": [
    {
     "name": "stdout",
     "output_type": "stream",
     "text": [
      "<class 'int'>\n",
      "<class 'str'>\n"
     ]
    }
   ],
   "source": [
    "#Converte un numero entero a cadena\n",
    "\n",
    "numero = 40\n",
    "print(type(numero))\n",
    "cadena= str(numero)\n",
    "print(type(cadena))"
   ]
  },
  {
   "cell_type": "code",
   "execution_count": 1,
   "id": "748259b0-a9df-48a3-bfda-0ec48b8ab7b2",
   "metadata": {},
   "outputs": [
    {
     "name": "stdout",
     "output_type": "stream",
     "text": [
      "lubin delgado arroyo\n"
     ]
    }
   ],
   "source": [
    "#pasar una cadena de mayúsculas a minúsculas\n",
    "\n",
    "mayus = 'LUBIN DELGADO ARROYO'\n",
    "minus= mayus.lower()\n",
    "print(minus)"
   ]
  },
  {
   "cell_type": "code",
   "execution_count": 5,
   "id": "45fd985b-7746-46ec-88ec-bf968e1f1410",
   "metadata": {},
   "outputs": [
    {
     "name": "stdout",
     "output_type": "stream",
     "text": [
      "Ordenar de menor a mayor: [1, 2, 3, 4, 5, 6, 7, 8, 9]\n"
     ]
    }
   ],
   "source": [
    "#Ordenar una lista de numeros de menos a mayor\n",
    "\n",
    "lista= [7,4,1,9,3,5,2,6,8]\n",
    "lista.sort()\n",
    "print('Ordenar de menor a mayor:', lista)"
   ]
  },
  {
   "cell_type": "code",
   "execution_count": null,
   "id": "bf9018c3-7a83-497e-b709-3e920d357803",
   "metadata": {},
   "outputs": [],
   "source": []
  }
 ],
 "metadata": {
  "kernelspec": {
   "display_name": "Python 3 (ipykernel)",
   "language": "python",
   "name": "python3"
  },
  "language_info": {
   "codemirror_mode": {
    "name": "ipython",
    "version": 3
   },
   "file_extension": ".py",
   "mimetype": "text/x-python",
   "name": "python",
   "nbconvert_exporter": "python",
   "pygments_lexer": "ipython3",
   "version": "3.12.4"
  }
 },
 "nbformat": 4,
 "nbformat_minor": 5
}
