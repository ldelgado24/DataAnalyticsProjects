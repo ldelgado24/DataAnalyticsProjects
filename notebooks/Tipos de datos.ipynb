{
 "cells": [
  {
   "cell_type": "markdown",
   "id": "a81264ce-9ad0-4360-b139-9874a6b48000",
   "metadata": {},
   "source": [
    "# Tipos de datos"
   ]
  },
  {
   "cell_type": "markdown",
   "id": "758e973b-0d32-46e0-b87e-f24a84bddc94",
   "metadata": {},
   "source": [
    "**Importar Librerias**"
   ]
  },
  {
   "cell_type": "code",
   "execution_count": 15,
   "id": "c8e4e33a-cf4a-4421-981f-587c8c1e4761",
   "metadata": {},
   "outputs": [],
   "source": [
    "import pandas as pd\n",
    "import numpy as np"
   ]
  },
  {
   "cell_type": "markdown",
   "id": "09729b3b-60bc-4af0-8723-34b18038f334",
   "metadata": {},
   "source": [
    "**Tipo de Datos**"
   ]
  },
  {
   "cell_type": "markdown",
   "id": "be8a2137-15d8-4796-85aa-56ee844caa59",
   "metadata": {},
   "source": [
    "# Tipos de datos Basicos:\n",
    "\n",
    "### -Enteros (in): <small>Representan números enteros. Ejemplo: `edad = 37`</small>\n",
    "### -Flotantes (float): <small>Representan números decimales. Ejemplo: `altura = 1.75`</small>\n",
    "### -Cadenas (srt): <small>Representan texto. Ejemplo: `nombre = 'Lubin'`</small>"
   ]
  },
  {
   "cell_type": "code",
   "execution_count": 37,
   "id": "bd10f045-9f03-4f2b-b1b0-e82ef28fe4ae",
   "metadata": {},
   "outputs": [],
   "source": [
    "edad = 37"
   ]
  },
  {
   "cell_type": "code",
   "execution_count": 39,
   "id": "f449a431-4caf-47c5-ad9b-a5accad8b9ef",
   "metadata": {},
   "outputs": [
    {
     "data": {
      "text/plain": [
       "int"
      ]
     },
     "execution_count": 39,
     "metadata": {},
     "output_type": "execute_result"
    }
   ],
   "source": [
    "type(edad)"
   ]
  },
  {
   "cell_type": "code",
   "execution_count": 43,
   "id": "345080f7-52a2-4c60-a66e-eec99a314549",
   "metadata": {},
   "outputs": [],
   "source": [
    "altura = 1.64"
   ]
  },
  {
   "cell_type": "code",
   "execution_count": 45,
   "id": "f0e54187-fdd3-41af-8bf2-116b92489b6f",
   "metadata": {},
   "outputs": [
    {
     "data": {
      "text/plain": [
       "float"
      ]
     },
     "execution_count": 45,
     "metadata": {},
     "output_type": "execute_result"
    }
   ],
   "source": [
    "type(altura)"
   ]
  },
  {
   "cell_type": "code",
   "execution_count": 47,
   "id": "7d164849-df02-4eca-b78f-2fc69b307abe",
   "metadata": {},
   "outputs": [],
   "source": [
    "nombre= 'Lubin'"
   ]
  },
  {
   "cell_type": "code",
   "execution_count": 49,
   "id": "b26c9d60-dcc2-441b-a775-64e2ca8e889a",
   "metadata": {},
   "outputs": [
    {
     "data": {
      "text/plain": [
       "str"
      ]
     },
     "execution_count": 49,
     "metadata": {},
     "output_type": "execute_result"
    }
   ],
   "source": [
    "type(nombre)"
   ]
  },
  {
   "cell_type": "markdown",
   "id": "92f0e212-04c2-420a-8340-541741458e93",
   "metadata": {},
   "source": [
    "**Crear un dataFrame a partir de una lista de diccionarios**"
   ]
  },
  {
   "cell_type": "code",
   "execution_count": 53,
   "id": "1c14910d-7aaf-406f-9d1d-82adc6ac2a8a",
   "metadata": {},
   "outputs": [
    {
     "data": {
      "text/html": [
       "<div>\n",
       "<style scoped>\n",
       "    .dataframe tbody tr th:only-of-type {\n",
       "        vertical-align: middle;\n",
       "    }\n",
       "\n",
       "    .dataframe tbody tr th {\n",
       "        vertical-align: top;\n",
       "    }\n",
       "\n",
       "    .dataframe thead th {\n",
       "        text-align: right;\n",
       "    }\n",
       "</style>\n",
       "<table border=\"1\" class=\"dataframe\">\n",
       "  <thead>\n",
       "    <tr style=\"text-align: right;\">\n",
       "      <th></th>\n",
       "      <th>nombre</th>\n",
       "      <th>Edad</th>\n",
       "      <th>Ciudad</th>\n",
       "    </tr>\n",
       "  </thead>\n",
       "  <tbody>\n",
       "    <tr>\n",
       "      <th>0</th>\n",
       "      <td>Lubin</td>\n",
       "      <td>37</td>\n",
       "      <td>Quibdó</td>\n",
       "    </tr>\n",
       "    <tr>\n",
       "      <th>1</th>\n",
       "      <td>Samir</td>\n",
       "      <td>36</td>\n",
       "      <td>Bogotá</td>\n",
       "    </tr>\n",
       "    <tr>\n",
       "      <th>2</th>\n",
       "      <td>Elvira</td>\n",
       "      <td>35</td>\n",
       "      <td>Bogotá</td>\n",
       "    </tr>\n",
       "    <tr>\n",
       "      <th>3</th>\n",
       "      <td>Alex</td>\n",
       "      <td>40</td>\n",
       "      <td>Medellin</td>\n",
       "    </tr>\n",
       "    <tr>\n",
       "      <th>4</th>\n",
       "      <td>Julian</td>\n",
       "      <td>38</td>\n",
       "      <td>Ibague</td>\n",
       "    </tr>\n",
       "    <tr>\n",
       "      <th>5</th>\n",
       "      <td>Albaro</td>\n",
       "      <td>52</td>\n",
       "      <td>Tolima</td>\n",
       "    </tr>\n",
       "  </tbody>\n",
       "</table>\n",
       "</div>"
      ],
      "text/plain": [
       "   nombre  Edad    Ciudad\n",
       "0   Lubin    37    Quibdó\n",
       "1   Samir    36    Bogotá\n",
       "2  Elvira    35    Bogotá\n",
       "3    Alex    40  Medellin\n",
       "4  Julian    38    Ibague\n",
       "5  Albaro    52    Tolima"
      ]
     },
     "execution_count": 53,
     "metadata": {},
     "output_type": "execute_result"
    }
   ],
   "source": [
    "# Lista de diccionarios con datos de personas\n",
    "\n",
    "datos_personas = [\n",
    "    {'nombre': 'Lubin', 'Edad': 37, 'Ciudad':'Quibdó'},\n",
    "    {'nombre': 'Samir', 'Edad': 36, 'Ciudad':'Bogotá'},\n",
    "    {'nombre': 'Elvira', 'Edad': 35, 'Ciudad':'Bogotá'},\n",
    "    {'nombre': 'Alex', 'Edad': 40, 'Ciudad':'Medellin'},\n",
    "    {'nombre': 'Julian', 'Edad': 38, 'Ciudad':'Ibague'},\n",
    "    {'nombre': 'Albaro', 'Edad': 52, 'Ciudad':'Tolima'},\n",
    "]\n",
    "\n",
    "# Crear un dataFrame a partir de la lista de diccionarios\n",
    "df_personas = pd.DataFrame(datos_personas)\n",
    "\n",
    "#Mostrar el DataFrame\n",
    "df_personas"
   ]
  },
  {
   "cell_type": "markdown",
   "id": "4c98ed60-a0e9-4121-bdb4-50e4e2349fd5",
   "metadata": {},
   "source": [
    "**Tipos de Datos Booleanos:**"
   ]
  },
  {
   "cell_type": "markdown",
   "id": "6e0da9d8-6cfd-4626-847d-ba3fb10b66e6",
   "metadata": {},
   "source": [
    "**Bool**: Representa Valores de verdad, 'True' o 'False'. Ejemplo: 'es_mayor_de_edad= True'"
   ]
  },
  {
   "cell_type": "code",
   "execution_count": 63,
   "id": "e362d3ed-441e-41e1-84dd-ef2b6fd32b25",
   "metadata": {},
   "outputs": [],
   "source": [
    "tienes_moto = True"
   ]
  },
  {
   "cell_type": "code",
   "execution_count": 67,
   "id": "af363900-9e69-4ff9-a90c-2f8102cd46da",
   "metadata": {},
   "outputs": [
    {
     "data": {
      "text/plain": [
       "bool"
      ]
     },
     "execution_count": 67,
     "metadata": {},
     "output_type": "execute_result"
    }
   ],
   "source": [
    "type(tienes_moto)"
   ]
  },
  {
   "cell_type": "code",
   "execution_count": 75,
   "id": "7156649f-41ff-445d-aea4-f4a336216289",
   "metadata": {},
   "outputs": [
    {
     "name": "stdout",
     "output_type": "stream",
     "text": [
      "False\n"
     ]
    }
   ],
   "source": [
    "x= 3\n",
    "y= 5\n",
    "\n",
    "# comprobando si la suma entre x + y = 8, (True o False)\n",
    "\n",
    "respuesta= x + y !=8\n",
    "\n",
    "print(respuesta)"
   ]
  },
  {
   "cell_type": "code",
   "execution_count": 77,
   "id": "73eaf73c-8632-4c35-a08e-ba5a0d8723dc",
   "metadata": {},
   "outputs": [
    {
     "data": {
      "text/plain": [
       "bool"
      ]
     },
     "execution_count": 77,
     "metadata": {},
     "output_type": "execute_result"
    }
   ],
   "source": [
    "type(respuesta)"
   ]
  },
  {
   "cell_type": "markdown",
   "id": "6046112d-58b9-4c49-987c-b20face45dbc",
   "metadata": {},
   "source": [
    "# Librería NumPy para Datos Numéricos:"
   ]
  },
  {
   "cell_type": "markdown",
   "id": "0b1a3f24-46af-4afc-b49a-37b821f04979",
   "metadata": {},
   "source": [
    "## Librería NumPy para datos Numéricos:**\n",
    "## -Importar NumPy: 'import numpy as np'\n",
    "## -Crear un array NumPy: 'edades = np.array([37,30,28,32])'\n",
    "## -Realizar cálculos matemáticos: 'media=np.mean(edades)'"
   ]
  },
  {
   "cell_type": "code",
   "execution_count": 84,
   "id": "03737bb3-065b-47fc-9859-1b882d343526",
   "metadata": {},
   "outputs": [],
   "source": [
    "edades= np.array([37,30,28,32])"
   ]
  },
  {
   "cell_type": "code",
   "execution_count": 86,
   "id": "30890a71-6647-4454-8256-d66d1cef82e9",
   "metadata": {},
   "outputs": [],
   "source": [
    "media = np.mean(edades)"
   ]
  },
  {
   "cell_type": "code",
   "execution_count": 88,
   "id": "0125fde8-d624-4483-8743-59f2e61b38a8",
   "metadata": {},
   "outputs": [
    {
     "name": "stdout",
     "output_type": "stream",
     "text": [
      "Media de edades: 31.75\n"
     ]
    }
   ],
   "source": [
    "print('Media de edades:', media)"
   ]
  },
  {
   "cell_type": "markdown",
   "id": "5bf2bae8-6787-49a3-ae0c-3a33aa2ce2ea",
   "metadata": {},
   "source": [
    "**Ejercicios Practicos**"
   ]
  },
  {
   "cell_type": "markdown",
   "id": "79dba7e3-a788-43d7-8494-ec177398c3fb",
   "metadata": {},
   "source": [
    "*primer ejercicio - Lista*"
   ]
  },
  {
   "cell_type": "code",
   "execution_count": null,
   "id": "6caf196d-aae0-44ae-8dab-781c1ce79734",
   "metadata": {},
   "outputs": [],
   "source": [
    "#Manipular una lista de nombres, magregar o eliminar elemntos:"
   ]
  },
  {
   "cell_type": "code",
   "execution_count": 92,
   "id": "14407dd5-b366-48a0-add6-aa6d76a55723",
   "metadata": {},
   "outputs": [],
   "source": [
    "#Lista de nombres inicial\n",
    "nombres = ['Lubin', 'Liz', 'Edinson']"
   ]
  },
  {
   "cell_type": "code",
   "execution_count": 94,
   "id": "82fb88e0-c0b8-4546-b133-9e0cd57145fc",
   "metadata": {},
   "outputs": [],
   "source": [
    "#Agregar un nuevo nombre al final de la lista \n",
    "nombres.append('Celmira')"
   ]
  },
  {
   "cell_type": "code",
   "execution_count": 96,
   "id": "1d88bb8d-e9ee-466f-b435-66f7ef2f0bba",
   "metadata": {},
   "outputs": [
    {
     "name": "stdout",
     "output_type": "stream",
     "text": [
      "Lista despúes de agregar un nombre: ['Lubin', 'Liz', 'Edinson', 'Celmira']\n"
     ]
    }
   ],
   "source": [
    "#Mostrar la lista despúes de la adición\n",
    "print('Lista despúes de agregar un nombre:', nombres)"
   ]
  },
  {
   "cell_type": "code",
   "execution_count": 102,
   "id": "4e0ba733-0b52-45b7-ab0b-bbf44c5f7471",
   "metadata": {},
   "outputs": [
    {
     "data": {
      "text/plain": [
       "'Liz'"
      ]
     },
     "execution_count": 102,
     "metadata": {},
     "output_type": "execute_result"
    }
   ],
   "source": [
    "# Posiciones dentro de una lista, Python en las listas siempre arranca a contar desde 0\n",
    "#Si quiero seleccionar a Liz deberia utilizar 1\n",
    "nombres[1]"
   ]
  },
  {
   "cell_type": "code",
   "execution_count": 104,
   "id": "4d761f2c-d0fd-45b8-a38e-60b459de1f79",
   "metadata": {},
   "outputs": [
    {
     "data": {
      "text/plain": [
       "'Liz'"
      ]
     },
     "execution_count": 104,
     "metadata": {},
     "output_type": "execute_result"
    }
   ],
   "source": [
    "# Eliminar el segundo nombre de la lista\n",
    "nombres.pop(1)"
   ]
  },
  {
   "cell_type": "code",
   "execution_count": 106,
   "id": "be2953b6-de71-41d9-80c8-cd2470288d51",
   "metadata": {},
   "outputs": [
    {
     "name": "stdout",
     "output_type": "stream",
     "text": [
      "Lista después de eliminar el segundo nombre: ['Lubin', 'Edinson', 'Celmira']\n"
     ]
    }
   ],
   "source": [
    "# Mostrar la lista después de la eliminación\n",
    "print(\"Lista después de eliminar el segundo nombre:\", nombres)"
   ]
  },
  {
   "cell_type": "markdown",
   "id": "b112a8a0-e70d-4b8c-808b-2ca538e162be",
   "metadata": {},
   "source": [
    "## Segundo Ejercicio -Diccionarios"
   ]
  },
  {
   "cell_type": "code",
   "execution_count": 111,
   "id": "bf27a24f-67a7-488e-b1df-e87dfbeef3d9",
   "metadata": {},
   "outputs": [],
   "source": [
    "nombres.insert(2, 'mauricio')"
   ]
  },
  {
   "cell_type": "code",
   "execution_count": 113,
   "id": "8437d957-477d-469c-93e7-f06b53449779",
   "metadata": {},
   "outputs": [
    {
     "data": {
      "text/plain": [
       "['Lubin', 'Edinson', 'mauricio', 'Celmira']"
      ]
     },
     "execution_count": 113,
     "metadata": {},
     "output_type": "execute_result"
    }
   ],
   "source": [
    "nombres"
   ]
  },
  {
   "cell_type": "code",
   "execution_count": 122,
   "id": "2f8d4dce-b7bd-42a0-9b02-6bdc94849cef",
   "metadata": {},
   "outputs": [
    {
     "name": "stdout",
     "output_type": "stream",
     "text": [
      "Información del estudiante:\n",
      "nombre: Liz\n",
      "edad: 6\n",
      "cursos: ['Matemáticas', 'Español', 'Inglés']\n",
      "promedio: 4.2\n"
     ]
    }
   ],
   "source": [
    "## Utilizar un diccionario para representar información de un estudiante:**\n",
    "# Datos del estudiante en un diccionario\n",
    "\n",
    "estudiante= {\n",
    "    'nombre': 'Liz',\n",
    "    'edad': 6,\n",
    "    'cursos':['Matemáticas','Español','Inglés'],\n",
    "    'promedio': 4.2\n",
    "}\n",
    "\n",
    "#Mostrar la información del estudiante\n",
    "print('Información del estudiante:')\n",
    "print('nombre:', estudiante['nombre'])\n",
    "print('edad:', estudiante['edad'])\n",
    "print('cursos:', estudiante['cursos'])\n",
    "print('promedio:', estudiante['promedio'])"
   ]
  },
  {
   "cell_type": "code",
   "execution_count": 124,
   "id": "3551fc39-a539-4b63-bb56-02c15370db85",
   "metadata": {},
   "outputs": [
    {
     "data": {
      "text/plain": [
       "4.2"
      ]
     },
     "execution_count": 124,
     "metadata": {},
     "output_type": "execute_result"
    }
   ],
   "source": [
    "estudiante['promedio']"
   ]
  },
  {
   "cell_type": "code",
   "execution_count": null,
   "id": "59fe1160-bf23-4d88-93bf-3d04ffd9985a",
   "metadata": {},
   "outputs": [],
   "source": []
  }
 ],
 "metadata": {
  "kernelspec": {
   "display_name": "Python 3 (ipykernel)",
   "language": "python",
   "name": "python3"
  },
  "language_info": {
   "codemirror_mode": {
    "name": "ipython",
    "version": 3
   },
   "file_extension": ".py",
   "mimetype": "text/x-python",
   "name": "python",
   "nbconvert_exporter": "python",
   "pygments_lexer": "ipython3",
   "version": "3.12.4"
  }
 },
 "nbformat": 4,
 "nbformat_minor": 5
}
